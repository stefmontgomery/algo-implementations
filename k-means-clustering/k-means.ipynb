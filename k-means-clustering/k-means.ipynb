{
 "cells": [
  {
   "cell_type": "markdown",
   "metadata": {},
   "source": [
    "## Imports"
   ]
  },
  {
   "cell_type": "code",
   "execution_count": 3,
   "metadata": {},
   "outputs": [],
   "source": [
    "import numpy as np\n",
    "from sklearn import datasets\n",
    "from matplotlib import pyplot as plt\n",
    "iris = datasets.load_iris()\n",
    "digits = datasets.load_digits()"
   ]
  },
  {
   "cell_type": "markdown",
   "metadata": {},
   "source": [
    "## Configurations"
   ]
  },
  {
   "cell_type": "code",
   "execution_count": 6,
   "metadata": {},
   "outputs": [],
   "source": [
    "X = digits.data\n",
    "num_examples = X.shape[0]\n",
    "num_features = X.shape[1]\n",
    "\n",
    "k = 10\n",
    "dist = \"squared-l2\"   # Choices: euclidean, squared-l2, \n",
    "\n",
    "# Allocate memory for the centroids\n",
    "centroids = np.zeros((k, num_features))\n",
    "\n",
    "# Allocate a data structure for the assignments\n",
    "assignments = np.zeros(num_examples, dtype=np.int32)"
   ]
  },
  {
   "cell_type": "code",
   "execution_count": 8,
   "metadata": {},
   "outputs": [
    {
     "data": {
      "text/plain": [
       "(64,)"
      ]
     },
     "execution_count": 8,
     "metadata": {},
     "output_type": "execute_result"
    }
   ],
   "source": [
    "# X[0].shape"
   ]
  },
  {
   "cell_type": "code",
   "execution_count": 11,
   "metadata": {},
   "outputs": [
    {
     "data": {
      "text/plain": [
       "<matplotlib.image.AxesImage at 0x132182e10>"
      ]
     },
     "execution_count": 11,
     "metadata": {},
     "output_type": "execute_result"
    },
    {
     "data": {
      "image/png": "[encoded data removed]",
      "text/plain": [
       "<Figure size 432x288 with 1 Axes>"
      ]
     },
     "metadata": {
      "needs_background": "light"
     },
     "output_type": "display_data"
    }
   ],
   "source": [
    "plt.imshow(X[302].reshape((8,8)))"
   ]
  },
  {
   "cell_type": "markdown",
   "metadata": {},
   "source": [
    "## Set the distance function"
   ]
  },
  {
   "cell_type": "code",
   "execution_count": 12,
   "metadata": {},
   "outputs": [],
   "source": [
    "def distance(x,y):\n",
    "    return np.dot(x - y, x - y)"
   ]
  },
  {
   "cell_type": "code",
   "execution_count": 15,
   "metadata": {},
   "outputs": [
    {
     "name": "stdout",
     "output_type": "stream",
     "text": [
      "3547.0\n",
      "1733.0\n"
     ]
    }
   ],
   "source": [
    "print(distance(X[0], X[1]))\n",
    "print(distance(X[1], X[2]))"
   ]
  },
  {
   "cell_type": "code",
   "execution_count": 16,
   "metadata": {},
   "outputs": [
    {
     "data": {
      "text/plain": [
       "1797"
      ]
     },
     "execution_count": 16,
     "metadata": {},
     "output_type": "execute_result"
    }
   ],
   "source": [
    "num_examples"
   ]
  },
  {
   "cell_type": "markdown",
   "metadata": {},
   "source": [
    "## Initiaize the centroids"
   ]
  },
  {
   "cell_type": "code",
   "execution_count": 17,
   "metadata": {},
   "outputs": [
    {
     "name": "stdout",
     "output_type": "stream",
     "text": [
      "[1144 1560 1134  876 1639 1356 1054  463 1425 1119]\n"
     ]
    }
   ],
   "source": [
    "random_points = np.random.permutation(num_examples)[:k]\n",
    "print(random_points)"
   ]
  },
  {
   "cell_type": "code",
   "execution_count": 18,
   "metadata": {},
   "outputs": [],
   "source": [
    "for i in range(k):\n",
    "    centroids[i, :] = X[random_points[i]]"
   ]
  },
  {
   "cell_type": "code",
   "execution_count": 19,
   "metadata": {},
   "outputs": [
    {
     "name": "stdout",
     "output_type": "stream",
     "text": [
      "[[ 0.  0. 10. 16. 15.  8.  2.  0.  0.  9. 16. 12.  8.  9.  3.  0.  0. 13.\n",
      "  16.  9.  0.  0.  0.  0.  0.  7. 16. 16. 10.  0.  0.  0.  0.  7. 13.  8.\n",
      "  16.  4.  0.  0.  0.  0.  0.  1. 16.  5.  0.  0.  0.  0.  2. 12. 15.  1.\n",
      "   0.  0.  0.  0. 13. 16.  6.  0.  0.  0.]\n",
      " [ 0.  0.  4. 13. 16. 14.  0.  0.  0.  2. 14. 16. 12.  4.  0.  0.  0. 13.\n",
      "  16.  5.  0.  0.  0.  0.  0. 11. 16. 10.  1.  0.  0.  0.  0.  5. 15. 16.\n",
      "   5.  0.  0.  0.  0.  0.  2. 15.  9.  0.  0.  0.  0.  0.  5. 15.  9.  0.\n",
      "   0.  0.  0.  0.  4. 16.  5.  0.  0.  0.]\n",
      " [ 0.  0.  3. 16. 12.  2.  0.  0.  0.  0.  6. 16. 16.  3.  0.  0.  0.  0.\n",
      "   9. 16. 16.  0.  0.  0.  0.  0.  9. 16. 16.  1.  0.  0.  0.  0.  9. 16.\n",
      "  16.  0.  0.  0.  0.  0.  9. 16. 13.  0.  0.  0.  0.  0.  7. 16. 13.  0.\n",
      "   0.  0.  0.  0.  3. 14. 16.  3.  0.  0.]\n",
      " [ 0.  0.  0.  1. 13.  2.  0.  0.  0.  0.  0. 12. 14.  0.  0.  0.  0.  0.\n",
      "   6. 14.  0.  0.  0.  0.  0.  1. 14.  5.  0.  0.  0.  0.  0.  9. 12.  0.\n",
      "  12.  7.  0.  0.  0. 12. 14.  6. 16. 14.  1.  0.  0.  6. 16. 16. 16.  5.\n",
      "   0.  0.  0.  0.  0.  3. 14.  0.  0.  0.]\n",
      " [ 0.  0.  7. 15. 16. 10.  0.  0.  0.  0. 14.  9. 10. 16.  1.  0.  0.  0.\n",
      "   2.  5. 15. 14.  0.  0.  0.  0.  0. 11. 16.  5.  0.  0.  0.  0.  0.  2.\n",
      "  16.  8.  0.  0.  0.  0.  0.  0. 10. 13.  0.  0.  0.  0. 11.  9. 15. 16.\n",
      "   1.  0.  0.  0.  8. 16. 16. 12.  0.  0.]\n",
      " [ 0.  0.  0. 12. 14.  5.  0.  0.  0.  0.  6. 11.  4. 15.  0.  0.  0.  0.\n",
      "   8.  9.  8. 16.  3.  0.  0.  0.  3. 14. 13. 13.  4.  0.  0.  0.  0.  0.\n",
      "   0. 10.  7.  0.  0.  0.  0.  0.  0.  7.  8.  0.  0.  0. 13.  6.  1.  7.\n",
      "   9.  0.  0.  0.  1. 10. 14. 15.  2.  0.]\n",
      " [ 0.  0.  5. 10. 14. 16. 11.  0.  0.  2. 15. 15.  5.  4.  1.  0.  0.  2.\n",
      "  16.  9.  4.  1.  0.  0.  0.  2. 16. 16. 16. 11.  0.  0.  0.  2.  9.  1.\n",
      "   0. 14.  4.  0.  0.  0.  0.  0.  1. 14.  3.  0.  0.  0.  0.  2. 13.  7.\n",
      "   0.  0.  0.  0.  7. 14.  7.  0.  0.  0.]\n",
      " [ 0.  0. 13. 14.  3.  0.  0.  0.  0.  4. 16. 15. 11.  0.  0.  0.  0.  7.\n",
      "  12.  4. 16.  0.  0.  0.  0.  3.  6.  4. 16.  0.  0.  0.  0.  0.  0.  9.\n",
      "  12.  0.  0.  0.  0.  0.  1. 14.  7.  0.  0.  0.  0.  1. 14. 16. 10. 10.\n",
      "   2.  0.  0.  0. 11. 12. 14. 14.  6.  0.]\n",
      " [ 0.  0.  3. 10. 16.  4.  0.  0.  0.  1. 15. 16. 16. 10.  0.  0.  0.  6.\n",
      "  10.  2.  3. 14.  1.  0.  0.  8.  6.  0.  0. 10.  4.  0.  0.  4.  8.  0.\n",
      "   0.  5.  8.  0.  0.  0. 15.  0.  0.  9.  8.  0.  0.  0. 12. 14. 10. 16.\n",
      "   3.  0.  0.  0.  4. 14. 13.  5.  0.  0.]\n",
      " [ 0.  0. 11. 12.  2.  0.  0.  0.  0.  0. 15.  8. 13.  2.  0.  0.  0.  0.\n",
      "   7. 11.  9.  9.  0.  0.  0.  4. 12. 12. 16.  7.  0.  0.  0.  2. 10. 12.\n",
      "   9. 12.  1.  0.  0.  0.  0.  0.  0.  7. 11.  0.  0.  0.  0.  0.  0.  0.\n",
      "  16.  2.  0.  0.  6. 12. 12. 13. 11.  0.]]\n"
     ]
    }
   ],
   "source": [
    "print(centroids)"
   ]
  },
  {
   "cell_type": "markdown",
   "metadata": {},
   "source": [
    "## Step 1 \n",
    "Assign each point to the cluster corresponding to the nearest centroid"
   ]
  },
  {
   "cell_type": "code",
   "execution_count": 35,
   "metadata": {},
   "outputs": [],
   "source": [
    "def update_assignments(X, centroids, assignments):\n",
    "    for i in range(num_examples):\n",
    "        distances = np.zeros(k)\n",
    "        for j in range(k):\n",
    "            distances[j] = distance(X[i], centroids[j])\n",
    "        assignments[i] = np.argmin(distances)"
   ]
  },
  {
   "cell_type": "code",
   "execution_count": 37,
   "metadata": {},
   "outputs": [],
   "source": [
    "# update_assignments(X, centroids, assignments)\n",
    "# print(assignments)"
   ]
  },
  {
   "cell_type": "markdown",
   "metadata": {},
   "source": [
    "## Step 2 \n",
    "Update the cluster centers"
   ]
  },
  {
   "cell_type": "code",
   "execution_count": 38,
   "metadata": {},
   "outputs": [],
   "source": [
    "def update_centroids(X, centroids, assignments):\n",
    "    for j in range(k):\n",
    "        centroids[j,:] = np.mean(X[np.where(assignments == j)], axis=0)\n"
   ]
  },
  {
   "cell_type": "markdown",
   "metadata": {},
   "source": [
    "## Step 3\n",
    "Calculate the loss based on the current cluster assignments.\n",
    "\n",
    "\n"
   ]
  },
  {
   "cell_type": "code",
   "execution_count": 20,
   "metadata": {},
   "outputs": [],
   "source": [
    "def loss(X, centroids, assignments):\n",
    "    loss = 0\n",
    "    for j in range(k):\n",
    "        A = X[np.where(assignments == j)]\n",
    "        for i in range(len(A)):\n",
    "            loss += distance(A[i], centroids[j])\n",
    "    return loss"
   ]
  },
  {
   "cell_type": "markdown",
   "metadata": {},
   "source": [
    "## Step 4 \n",
    "Put it all together!"
   ]
  },
  {
   "cell_type": "code",
   "execution_count": 42,
   "metadata": {},
   "outputs": [
    {
     "name": "stdout",
     "output_type": "stream",
     "text": [
      "Epoch: 0 Cost:  2483189.0\n",
      "Epoch: 1 Cost: 1466927.0955716746\n",
      "Epoch: 2 Cost: 1283795.1950632513\n",
      "Epoch: 3 Cost: 1246201.0257234892\n",
      "Epoch: 4 Cost: 1231698.7714228553\n",
      "Epoch: 5 Cost: 1216817.2319894626\n",
      "Epoch: 6 Cost: 1201518.3006583788\n",
      "Epoch: 7 Cost: 1190127.9153669581\n",
      "Epoch: 8 Cost: 1183341.9769776526\n",
      "Epoch: 9 Cost: 1177961.904753619\n",
      "Epoch: 10 Cost: 1174902.872938588\n",
      "Epoch: 11 Cost: 1173648.0286182195\n",
      "Epoch: 12 Cost: 1172829.1371840497\n",
      "Epoch: 13 Cost: 1172243.6724236184\n",
      "Epoch: 14 Cost: 1171964.602104043\n",
      "Epoch: 15 Cost: 1171600.086721224\n",
      "Epoch: 16 Cost: 1171416.5661407758\n",
      "Epoch: 17 Cost: 1171416.5661407758\n",
      "The k-means algorithm has converged\n"
     ]
    }
   ],
   "source": [
    "cost = loss(X, centroids, assignments)\n",
    "prev_cost = cost + 1\n",
    "counter = 0\n",
    "print(\"Epoch:\", counter, \"Cost: \", cost) \n",
    "\n",
    "while prev_cost > cost:\n",
    "    counter += 1\n",
    "    prev_cost = cost\n",
    "    \n",
    "    update_assignments(X, centroids, assignments)\n",
    "    update_centroids(X, centroids, assignments)\n",
    "    cost = loss(X, centroids, assignments)\n",
    "    print(\"Epoch:\", counter, \"Cost:\", cost) \n",
    "    #     if loss == prev_cost:\n",
    "    \n",
    "print(\"The k-means algorithm has converged\")"
   ]
  },
  {
   "cell_type": "code",
   "execution_count": null,
   "metadata": {},
   "outputs": [],
   "source": []
  }
 ],
 "metadata": {
  "kernelspec": {
   "display_name": "Python 3",
   "language": "python",
   "name": "python3"
  },
  "language_info": {
   "codemirror_mode": {
    "name": "ipython",
    "version": 3
   },
   "file_extension": ".py",
   "mimetype": "text/x-python",
   "name": "python",
   "nbconvert_exporter": "python",
   "pygments_lexer": "ipython3",
   "version": "3.7.4"
  }
 },
 "nbformat": 4,
 "nbformat_minor": 2
}
