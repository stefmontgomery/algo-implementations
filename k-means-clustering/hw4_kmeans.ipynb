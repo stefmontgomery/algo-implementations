{
 "cells": [
  {
   "cell_type": "code",
   "execution_count": 1,
   "metadata": {},
   "outputs": [],
   "source": [
    "import numpy as np\n",
    "import numpy.linalg\n",
    "from sklearn.datasets import load_digits\n",
    "import matplotlib.pyplot as plt \n",
    "import matplotlib.cm as cm"
   ]
  },
  {
   "cell_type": "code",
   "execution_count": 2,
   "metadata": {},
   "outputs": [],
   "source": [
    "# Calculate squared distance from a point x to each centroid\n",
    "def distance(x, c):\n",
    "    dist = ((x - c)**2).sum(axis=1)\n",
    "    return dist"
   ]
  },
  {
   "cell_type": "code",
   "execution_count": 3,
   "metadata": {},
   "outputs": [],
   "source": [
    "# Update the cluster_assignments vector so that each point x is assigned to the cluster with the closest centroid\n",
    "def reassign_clusters(data, centroids):\n",
    "    num_examples = data.shape[0]\n",
    "    cluster_assignments = np.zeros(num_examples)\n",
    "    i = 0\n",
    "    for x in data:\n",
    "        cluster_assignments[i] = distance(x, centroids).argmin()\n",
    "        i += 1\n",
    "    return cluster_assignments"
   ]
  },
  {
   "cell_type": "code",
   "execution_count": 4,
   "metadata": {},
   "outputs": [],
   "source": [
    "# Update the centroids to be the average of all points in the cluster\n",
    "def update_centroids(cluster_assignments, centroids):\n",
    "    k = centroids.shape[0]\n",
    "    for j in range(k):\n",
    "        cluster_points = data[cluster_assignments == j]\n",
    "        centroids[j] = cluster_points.mean(axis=0)\n",
    "    return centroids"
   ]
  },
  {
   "cell_type": "code",
   "execution_count": 5,
   "metadata": {},
   "outputs": [],
   "source": [
    "# Calculate \"loss\" at the end of the training round\n",
    "def calculate_loss(data, cluster_assignments, centroids):\n",
    "    num_examples = data.shape[0]\n",
    "    loss = np.zeros(num_examples)\n",
    "    for c in range(centroids.shape[0]):\n",
    "        loss[cluster_assignments == c] = np.linalg.norm(data[cluster_assignments == c] - centroids[c], axis=1)\n",
    "    return np.mean(np.square(loss))"
   ]
  },
  {
   "cell_type": "code",
   "execution_count": 6,
   "metadata": {},
   "outputs": [],
   "source": [
    "# Assign data to k clusters, stopping at max_rounds if not convereged yet\n",
    "def kmeans(data, k, max_rounds):\n",
    "    num_examples = data.shape[0]\n",
    "    num_features = data.shape[1]\n",
    "    \n",
    "    initial_centroids = np.random.choice(num_examples, k, replace=False)\n",
    "    centroids = data[initial_centroids]\n",
    "\n",
    "    max_epochs = max_rounds\n",
    "    l = None\n",
    "    for epoch in range(max_epochs):\n",
    "        print(\"epoch:\",epoch)\n",
    "        prev_l = l\n",
    "        cluster_assignments = reassign_clusters(data, centroids)\n",
    "        centroids = update_centroids(cluster_assignments, centroids)\n",
    "        l = calculate_loss(data, cluster_assignments, centroids)\n",
    "        print(\"loss:\",l)\n",
    "        if (prev_l != None and l == prev_l):\n",
    "            # break if loss is not lowered\n",
    "            break\n",
    "            \n",
    "    return (cluster_assignments, centroids)"
   ]
  },
  {
   "cell_type": "code",
   "execution_count": 7,
   "metadata": {},
   "outputs": [],
   "source": [
    "digits = load_digits()\n",
    "data = digits.data"
   ]
  },
  {
   "cell_type": "code",
   "execution_count": 18,
   "metadata": {},
   "outputs": [
    {
     "name": "stdout",
     "output_type": "stream",
     "text": [
      "epoch: 0\n",
      "loss: 934.1443784130928\n",
      "epoch: 1\n",
      "loss: 879.6705161237\n",
      "epoch: 2\n",
      "loss: 865.6497018225567\n",
      "epoch: 3\n",
      "loss: 862.5134715414023\n",
      "epoch: 4\n",
      "loss: 861.3220462106773\n",
      "epoch: 5\n",
      "loss: 860.642809325379\n",
      "epoch: 6\n",
      "loss: 860.2807736786878\n",
      "epoch: 7\n",
      "loss: 860.0827726792788\n",
      "epoch: 8\n",
      "loss: 860.0045663310605\n",
      "epoch: 9\n",
      "loss: 859.9233547463574\n",
      "epoch: 10\n",
      "loss: 859.769482790238\n",
      "epoch: 11\n",
      "loss: 859.666516421951\n",
      "epoch: 12\n",
      "loss: 859.4736233244938\n",
      "epoch: 13\n",
      "loss: 859.0178902489906\n",
      "epoch: 14\n",
      "loss: 858.5485811818725\n",
      "epoch: 15\n",
      "loss: 858.190991946098\n",
      "epoch: 16\n",
      "loss: 857.9561739207692\n",
      "epoch: 17\n",
      "loss: 857.8092915523603\n",
      "epoch: 18\n",
      "loss: 857.6651135024309\n",
      "epoch: 19\n",
      "loss: 857.513512272948\n",
      "epoch: 20\n",
      "loss: 857.4894055591859\n",
      "epoch: 21\n",
      "loss: 857.4766376842889\n",
      "epoch: 22\n",
      "loss: 857.4630413750523\n",
      "epoch: 23\n",
      "loss: 857.4630413750523\n"
     ]
    }
   ],
   "source": [
    "cluster_assignments, centroids = kmeans(data, 5, 40)"
   ]
  },
  {
   "cell_type": "code",
   "execution_count": 19,
   "metadata": {},
   "outputs": [
    {
     "name": "stdout",
     "output_type": "stream",
     "text": [
      "epoch: 0\n",
      "loss: 835.152660666681\n",
      "epoch: 1\n",
      "loss: 756.5285823718793\n",
      "epoch: 2\n",
      "loss: 722.9941585264218\n",
      "epoch: 3\n",
      "loss: 713.2540896745263\n",
      "epoch: 4\n",
      "loss: 707.8660326449601\n",
      "epoch: 5\n",
      "loss: 704.6209530379816\n",
      "epoch: 6\n",
      "loss: 702.7385809134195\n",
      "epoch: 7\n",
      "loss: 699.2376448941247\n",
      "epoch: 8\n",
      "loss: 690.5289848092704\n",
      "epoch: 9\n",
      "loss: 684.1172712688082\n",
      "epoch: 10\n",
      "loss: 679.5195589531735\n",
      "epoch: 11\n",
      "loss: 675.9393412710039\n",
      "epoch: 12\n",
      "loss: 674.2960880451338\n",
      "epoch: 13\n",
      "loss: 673.3322976480154\n",
      "epoch: 14\n",
      "loss: 672.4192319350335\n",
      "epoch: 15\n",
      "loss: 671.5300815796072\n",
      "epoch: 16\n",
      "loss: 671.3946663481901\n",
      "epoch: 17\n",
      "loss: 671.3699141940515\n",
      "epoch: 18\n",
      "loss: 671.3373050416595\n",
      "epoch: 19\n",
      "loss: 671.3373050416595\n"
     ]
    }
   ],
   "source": [
    "cluster_assignments, centroids = kmeans(data, 10, 40)"
   ]
  },
  {
   "cell_type": "code",
   "execution_count": 20,
   "metadata": {},
   "outputs": [
    {
     "name": "stdout",
     "output_type": "stream",
     "text": [
      "epoch: 0\n",
      "loss: 713.935729852928\n",
      "epoch: 1\n",
      "loss: 645.4927638843812\n",
      "epoch: 2\n",
      "loss: 619.1903624658139\n",
      "epoch: 3\n",
      "loss: 603.5632667688828\n",
      "epoch: 4\n",
      "loss: 594.653224582907\n",
      "epoch: 5\n",
      "loss: 590.0896315496152\n",
      "epoch: 6\n",
      "loss: 588.2303755855896\n",
      "epoch: 7\n",
      "loss: 587.2739315536262\n",
      "epoch: 8\n",
      "loss: 586.8082237187402\n",
      "epoch: 9\n",
      "loss: 586.4107632596225\n",
      "epoch: 10\n",
      "loss: 585.6381244202188\n",
      "epoch: 11\n",
      "loss: 585.2528518132345\n",
      "epoch: 12\n",
      "loss: 584.840667160878\n",
      "epoch: 13\n",
      "loss: 584.4488556935655\n",
      "epoch: 14\n",
      "loss: 584.2484506422983\n",
      "epoch: 15\n",
      "loss: 584.1605852863881\n",
      "epoch: 16\n",
      "loss: 584.0590147173345\n",
      "epoch: 17\n",
      "loss: 583.9990675623831\n",
      "epoch: 18\n",
      "loss: 583.9311425430424\n",
      "epoch: 19\n",
      "loss: 583.7938910212262\n",
      "epoch: 20\n",
      "loss: 583.7632324817454\n",
      "epoch: 21\n",
      "loss: 583.674677102945\n",
      "epoch: 22\n",
      "loss: 583.5731954659356\n",
      "epoch: 23\n",
      "loss: 583.5597714271436\n",
      "epoch: 24\n",
      "loss: 583.5476249553461\n",
      "epoch: 25\n",
      "loss: 583.5476249553461\n"
     ]
    }
   ],
   "source": [
    "cluster_assignments, centroids = kmeans(data, 15, 40)"
   ]
  },
  {
   "cell_type": "markdown",
   "metadata": {},
   "source": [
    "Below is code to sanity check that the images in the first few clusters are the same."
   ]
  },
  {
   "cell_type": "code",
   "execution_count": 15,
   "metadata": {},
   "outputs": [
    {
     "data": {
      "text/plain": [
       "<Figure size 432x288 with 0 Axes>"
      ]
     },
     "metadata": {},
     "output_type": "display_data"
    },
    {
     "data": {
      "image/png": "[encoded data removed]",
      "text/plain": [
       "<Figure size 288x288 with 1 Axes>"
      ]
     },
     "metadata": {
      "needs_background": "light"
     },
     "output_type": "display_data"
    },
    {
     "data": {
      "image/png": "[encoded data removed]",
      "text/plain": [
       "<Figure size 288x288 with 1 Axes>"
      ]
     },
     "metadata": {
      "needs_background": "light"
     },
     "output_type": "display_data"
    },
    {
     "data": {
      "image/png": "[encoded data removed]",
      "text/plain": [
       "<Figure size 288x288 with 1 Axes>"
      ]
     },
     "metadata": {
      "needs_background": "light"
     },
     "output_type": "display_data"
    },
    {
     "data": {
      "image/png": "[encoded data removed]",
      "text/plain": [
       "<Figure size 288x288 with 1 Axes>"
      ]
     },
     "metadata": {
      "needs_background": "light"
     },
     "output_type": "display_data"
    },
    {
     "data": {
      "image/png": "[encoded data removed]",
      "text/plain": [
       "<Figure size 288x288 with 1 Axes>"
      ]
     },
     "metadata": {
      "needs_background": "light"
     },
     "output_type": "display_data"
    }
   ],
   "source": [
    "i = 0\n",
    "k_i = digits.images[cluster_assignments == i]\n",
    "\n",
    "plt.gray() \n",
    "plt.matshow(k_i[0]) \n",
    "plt.matshow(k_i[0]) \n",
    "plt.matshow(k_i[0]) \n",
    "plt.matshow(k_i[0]) \n",
    "plt.matshow(k_i[0]) \n",
    "plt.show() "
   ]
  },
  {
   "cell_type": "code",
   "execution_count": 16,
   "metadata": {},
   "outputs": [
    {
     "data": {
      "text/plain": [
       "<Figure size 432x288 with 0 Axes>"
      ]
     },
     "metadata": {},
     "output_type": "display_data"
    },
    {
     "data": {
      "image/png": "[encoded data removed]",
      "text/plain": [
       "<Figure size 288x288 with 1 Axes>"
      ]
     },
     "metadata": {
      "needs_background": "light"
     },
     "output_type": "display_data"
    },
    {
     "data": {
      "image/png": "[encoded data removed]",
      "text/plain": [
       "<Figure size 288x288 with 1 Axes>"
      ]
     },
     "metadata": {
      "needs_background": "light"
     },
     "output_type": "display_data"
    },
    {
     "data": {
      "image/png": "[encoded data removed]",
      "text/plain": [
       "<Figure size 288x288 with 1 Axes>"
      ]
     },
     "metadata": {
      "needs_background": "light"
     },
     "output_type": "display_data"
    },
    {
     "data": {
      "image/png": "[encoded data removed]",
      "text/plain": [
       "<Figure size 288x288 with 1 Axes>"
      ]
     },
     "metadata": {
      "needs_background": "light"
     },
     "output_type": "display_data"
    },
    {
     "data": {
      "image/png": "[encoded data removed]",
      "text/plain": [
       "<Figure size 288x288 with 1 Axes>"
      ]
     },
     "metadata": {
      "needs_background": "light"
     },
     "output_type": "display_data"
    }
   ],
   "source": [
    "i = 1\n",
    "k_i = digits.images[cluster_assignments == i]\n",
    "\n",
    "plt.gray() \n",
    "plt.matshow(k_i[0]) \n",
    "plt.matshow(k_i[0]) \n",
    "plt.matshow(k_i[0]) \n",
    "plt.matshow(k_i[0]) \n",
    "plt.matshow(k_i[0]) \n",
    "plt.show() "
   ]
  },
  {
   "cell_type": "code",
   "execution_count": 17,
   "metadata": {},
   "outputs": [
    {
     "data": {
      "text/plain": [
       "<Figure size 432x288 with 0 Axes>"
      ]
     },
     "metadata": {},
     "output_type": "display_data"
    },
    {
     "data": {
      "image/png": "[encoded data removed]",
      "text/plain": [
       "<Figure size 288x288 with 1 Axes>"
      ]
     },
     "metadata": {
      "needs_background": "light"
     },
     "output_type": "display_data"
    },
    {
     "data": {
      "image/png": "[encoded data removed]",
      "text/plain": [
       "<Figure size 288x288 with 1 Axes>"
      ]
     },
     "metadata": {
      "needs_background": "light"
     },
     "output_type": "display_data"
    },
    {
     "data": {
      "image/png": "[encoded data removed]",
      "text/plain": [
       "<Figure size 288x288 with 1 Axes>"
      ]
     },
     "metadata": {
      "needs_background": "light"
     },
     "output_type": "display_data"
    },
    {
     "data": {
      "image/png": "[encoded data removed]",
      "text/plain": [
       "<Figure size 288x288 with 1 Axes>"
      ]
     },
     "metadata": {
      "needs_background": "light"
     },
     "output_type": "display_data"
    },
    {
     "data": {
      "image/png": "[encoded data removed]",
      "text/plain": [
       "<Figure size 288x288 with 1 Axes>"
      ]
     },
     "metadata": {
      "needs_background": "light"
     },
     "output_type": "display_data"
    }
   ],
   "source": [
    "i = 2\n",
    "k_i = digits.images[cluster_assignments == i]\n",
    "\n",
    "plt.gray() \n",
    "plt.matshow(k_i[0]) \n",
    "plt.matshow(k_i[0]) \n",
    "plt.matshow(k_i[0]) \n",
    "plt.matshow(k_i[0]) \n",
    "plt.matshow(k_i[0]) \n",
    "plt.show() "
   ]
  },
  {
   "cell_type": "code",
   "execution_count": null,
   "metadata": {},
   "outputs": [],
   "source": []
  },
  {
   "cell_type": "code",
   "execution_count": null,
   "metadata": {},
   "outputs": [],
   "source": []
  }
 ],
 "metadata": {
  "kernelspec": {
   "display_name": "Python 3",
   "language": "python",
   "name": "python3"
  },
  "language_info": {
   "codemirror_mode": {
    "name": "ipython",
    "version": 3
   },
   "file_extension": ".py",
   "mimetype": "text/x-python",
   "name": "python",
   "nbconvert_exporter": "python",
   "pygments_lexer": "ipython3",
   "version": "3.7.4"
  }
 },
 "nbformat": 4,
 "nbformat_minor": 2
}
