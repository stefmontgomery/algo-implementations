{
 "cells": [
  {
   "cell_type": "markdown",
   "metadata": {},
   "source": [
    "# K-Nearest Neighbors Classification"
   ]
  },
  {
   "cell_type": "code",
   "execution_count": 90,
   "metadata": {},
   "outputs": [],
   "source": [
    "import numpy as np\n",
    "import matplotlib.pyplot as plt\n",
    "import math"
   ]
  },
  {
   "cell_type": "markdown",
   "metadata": {},
   "source": [
    "## Implement algorithm"
   ]
  },
  {
   "cell_type": "code",
   "execution_count": 335,
   "metadata": {},
   "outputs": [],
   "source": [
    "def classifyNewX(train_X, train_y, test_X, k):\n",
    "    \n",
    "    dists = np.linalg.norm(train_X - test_X, axis = 1)\n",
    "    \n",
    "    ## order is the index position of sorted items in dists\n",
    "    order = dists.argsort()\n",
    "    ## ranks is the index position in dists of the ranked orders\n",
    "    ranks = order.argsort()\n",
    "\n",
    "    top_k_ranks = ranks <= k - 1\n",
    "    top_k_y = train_y[top_k_ranks]\n",
    "\n",
    "    values, counts = np.unique(top_k_y, return_counts=True)\n",
    "\n",
    "    test_y_index = np.argmax(counts)\n",
    "    test_y = values[test_y_index]\n",
    "    print(\"Predicted class: {:d}\".format(test_y))\n",
    "    return test_y"
   ]
  },
  {
   "cell_type": "markdown",
   "metadata": {},
   "source": [
    "## Test on simple 2d data"
   ]
  },
  {
   "cell_type": "code",
   "execution_count": 342,
   "metadata": {},
   "outputs": [
    {
     "name": "stdout",
     "output_type": "stream",
     "text": [
      "0 -1 0.8706003715746886\n",
      "1 0 0.8561619638677929\n",
      "2 0 0.3346727181979628\n"
     ]
    }
   ],
   "source": [
    "test_samples = 50\n",
    "test_classes = 3\n",
    "\n",
    "train_X = None\n",
    "train_y = None\n",
    "\n",
    "for c in range(test_classes):\n",
    "    c_loc = np.random.randint(low = -2, high = 2)\n",
    "    c_scale = np.random.random() + .3\n",
    "    print(c, c_loc, c_scale)\n",
    "    temp_train_X = np.random.normal(loc = c_loc,\n",
    "                                   scale = c_scale,\n",
    "                                   size = (math.ceil(test_samples/test_classes), 2))\n",
    "    temp_train_y = np.repeat(c, math.ceil(test_samples/test_classes))\n",
    "    if c == 0:\n",
    "        train_X = temp_train_X\n",
    "        train_y = temp_train_y\n",
    "    else:\n",
    "        train_X = np.append(train_X, temp_train_X, axis = 0)\n",
    "        train_y = np.append(train_y, temp_train_y)\n",
    "        \n",
    "test_X = np.random.normal(loc = np.random.randint(low = -2, high = 2),\n",
    "                          scale = np.random.random() + .3,\n",
    "                          size = (1, 2))"
   ]
  },
  {
   "cell_type": "code",
   "execution_count": 343,
   "metadata": {},
   "outputs": [
    {
     "name": "stdout",
     "output_type": "stream",
     "text": [
      "1\n",
      "Predicted class: 1\n",
      "2\n",
      "Predicted class: 0\n",
      "3\n",
      "Predicted class: 0\n",
      "4\n",
      "Predicted class: 2\n",
      "5\n",
      "Predicted class: 1\n",
      "6\n",
      "Predicted class: 1\n",
      "7\n",
      "Predicted class: 1\n",
      "8\n",
      "Predicted class: 1\n",
      "9\n",
      "Predicted class: 1\n",
      "10\n",
      "Predicted class: 1\n"
     ]
    }
   ],
   "source": [
    "for k in range(1, 11):\n",
    "    print(k)\n",
    "    test_y = classifyNewX(train_X, train_y, test_X, k)"
   ]
  },
  {
   "cell_type": "code",
   "execution_count": 344,
   "metadata": {},
   "outputs": [
    {
     "data": {
      "image/png": "[encoded data removed]",
      "text/plain": [
       "<Figure size 432x288 with 1 Axes>"
      ]
     },
     "metadata": {
      "needs_background": "light"
     },
     "output_type": "display_data"
    }
   ],
   "source": [
    "fig, ax = plt.subplots()\n",
    "\n",
    "scatter = ax.scatter(train_X[:,0], train_X[:,1], c=train_y, label = train_y)\n",
    "ax.scatter(test_X[:,0], test_X[:,1], c = 'red', marker = '+', label = 'new')\n",
    "\n",
    "legend = ax.legend(*scatter.legend_elements(),\n",
    "                    loc=\"lower left\", title=\"Classes\")\n",
    "ax.add_artist(legend)\n",
    "plt.title(\"K-NN\")\n",
    "plt.show()"
   ]
  },
  {
   "cell_type": "markdown",
   "metadata": {},
   "source": [
    "## Test on MNIST dataset"
   ]
  },
  {
   "cell_type": "code",
   "execution_count": 345,
   "metadata": {},
   "outputs": [],
   "source": [
    "from sklearn.datasets import load_digits"
   ]
  },
  {
   "cell_type": "code",
   "execution_count": 380,
   "metadata": {},
   "outputs": [],
   "source": [
    "digits = load_digits()\n",
    "data = digits.data\n",
    "target = digits.target"
   ]
  },
  {
   "cell_type": "code",
   "execution_count": 387,
   "metadata": {},
   "outputs": [],
   "source": [
    "num_samples = 60\n",
    "train_X = data[:num_samples,:]\n",
    "train_y = target[:num_samples]"
   ]
  },
  {
   "cell_type": "code",
   "execution_count": 400,
   "metadata": {},
   "outputs": [
    {
     "name": "stdout",
     "output_type": "stream",
     "text": [
      "879 3\n"
     ]
    }
   ],
   "source": [
    "test_index = np.random.randint(low = num_samples + 1, high = data.shape[0])\n",
    "test_X = data[test_index,:].reshape(1, -1)\n",
    "test_y = target[test_index]\n",
    "print(test_index, test_y)"
   ]
  },
  {
   "cell_type": "code",
   "execution_count": 401,
   "metadata": {},
   "outputs": [
    {
     "name": "stdout",
     "output_type": "stream",
     "text": [
      "Predicted class: 3\n",
      "Predicted class: 3\n",
      "Predicted class: 3\n",
      "Predicted class: 3\n",
      "Predicted class: 3\n",
      "Predicted class: 3\n",
      "Predicted class: 3\n",
      "Predicted class: 3\n",
      "Predicted class: 3\n",
      "Predicted class: 3\n"
     ]
    }
   ],
   "source": [
    "for k in range(1, 11):\n",
    "    test_y = classifyNewX(train_X, train_y, test_X, k)"
   ]
  },
  {
   "cell_type": "code",
   "execution_count": null,
   "metadata": {},
   "outputs": [],
   "source": []
  },
  {
   "cell_type": "code",
   "execution_count": null,
   "metadata": {},
   "outputs": [],
   "source": []
  }
 ],
 "metadata": {
  "kernelspec": {
   "display_name": "Python 3.7.9 64-bit ('msba': conda)",
   "language": "python",
   "name": "python37964bitmsbaconda92850c2aea1f40d29cc0977a921bc192"
  },
  "language_info": {
   "codemirror_mode": {
    "name": "ipython",
    "version": 3
   },
   "file_extension": ".py",
   "mimetype": "text/x-python",
   "name": "python",
   "nbconvert_exporter": "python",
   "pygments_lexer": "ipython3",
   "version": "3.7.9"
  }
 },
 "nbformat": 4,
 "nbformat_minor": 4
}
